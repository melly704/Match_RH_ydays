{
 "cells": [
  {
   "cell_type": "code",
   "execution_count": 7,
   "id": "14e5da16",
   "metadata": {},
   "outputs": [
    {
     "name": "stdout",
     "output_type": "stream",
     "text": [
      "Requirement already satisfied: sentence-transformers in c:\\users\\ahmed\\appdata\\local\\programs\\python\\python311\\lib\\site-packages (4.1.0)\n",
      "Requirement already satisfied: transformers<5.0.0,>=4.41.0 in c:\\users\\ahmed\\appdata\\local\\programs\\python\\python311\\lib\\site-packages (from sentence-transformers) (4.51.3)\n",
      "Requirement already satisfied: tqdm in c:\\users\\ahmed\\appdata\\local\\programs\\python\\python311\\lib\\site-packages (from sentence-transformers) (4.67.1)\n",
      "Requirement already satisfied: torch>=1.11.0 in c:\\users\\ahmed\\appdata\\local\\programs\\python\\python311\\lib\\site-packages (from sentence-transformers) (2.7.0)\n",
      "Requirement already satisfied: scikit-learn in c:\\users\\ahmed\\appdata\\local\\programs\\python\\python311\\lib\\site-packages (from sentence-transformers) (1.6.1)\n",
      "Requirement already satisfied: scipy in c:\\users\\ahmed\\appdata\\local\\programs\\python\\python311\\lib\\site-packages (from sentence-transformers) (1.15.3)\n",
      "Requirement already satisfied: huggingface-hub>=0.20.0 in c:\\users\\ahmed\\appdata\\local\\programs\\python\\python311\\lib\\site-packages (from sentence-transformers) (0.31.2)\n",
      "Requirement already satisfied: Pillow in c:\\users\\ahmed\\appdata\\local\\programs\\python\\python311\\lib\\site-packages (from sentence-transformers) (11.2.1)\n",
      "Requirement already satisfied: typing_extensions>=4.5.0 in c:\\users\\ahmed\\appdata\\roaming\\python\\python311\\site-packages (from sentence-transformers) (4.12.2)\n",
      "Requirement already satisfied: filelock in c:\\users\\ahmed\\appdata\\local\\programs\\python\\python311\\lib\\site-packages (from huggingface-hub>=0.20.0->sentence-transformers) (3.18.0)\n",
      "Requirement already satisfied: fsspec>=2023.5.0 in c:\\users\\ahmed\\appdata\\local\\programs\\python\\python311\\lib\\site-packages (from huggingface-hub>=0.20.0->sentence-transformers) (2025.3.2)\n",
      "Requirement already satisfied: packaging>=20.9 in c:\\users\\ahmed\\appdata\\roaming\\python\\python311\\site-packages (from huggingface-hub>=0.20.0->sentence-transformers) (24.2)\n",
      "Requirement already satisfied: pyyaml>=5.1 in c:\\users\\ahmed\\appdata\\local\\programs\\python\\python311\\lib\\site-packages (from huggingface-hub>=0.20.0->sentence-transformers) (6.0.2)\n",
      "Requirement already satisfied: requests in c:\\users\\ahmed\\appdata\\local\\programs\\python\\python311\\lib\\site-packages (from huggingface-hub>=0.20.0->sentence-transformers) (2.32.3)\n",
      "Requirement already satisfied: sympy>=1.13.3 in c:\\users\\ahmed\\appdata\\local\\programs\\python\\python311\\lib\\site-packages (from torch>=1.11.0->sentence-transformers) (1.14.0)\n",
      "Requirement already satisfied: networkx in c:\\users\\ahmed\\appdata\\local\\programs\\python\\python311\\lib\\site-packages (from torch>=1.11.0->sentence-transformers) (3.4.2)\n",
      "Requirement already satisfied: jinja2 in c:\\users\\ahmed\\appdata\\local\\programs\\python\\python311\\lib\\site-packages (from torch>=1.11.0->sentence-transformers) (3.1.4)\n",
      "Requirement already satisfied: colorama in c:\\users\\ahmed\\appdata\\roaming\\python\\python311\\site-packages (from tqdm->sentence-transformers) (0.4.6)\n",
      "Requirement already satisfied: numpy>=1.17 in c:\\users\\ahmed\\appdata\\local\\programs\\python\\python311\\lib\\site-packages (from transformers<5.0.0,>=4.41.0->sentence-transformers) (2.0.2)\n",
      "Requirement already satisfied: regex!=2019.12.17 in c:\\users\\ahmed\\appdata\\local\\programs\\python\\python311\\lib\\site-packages (from transformers<5.0.0,>=4.41.0->sentence-transformers) (2024.11.6)\n",
      "Requirement already satisfied: tokenizers<0.22,>=0.21 in c:\\users\\ahmed\\appdata\\local\\programs\\python\\python311\\lib\\site-packages (from transformers<5.0.0,>=4.41.0->sentence-transformers) (0.21.1)\n",
      "Requirement already satisfied: safetensors>=0.4.3 in c:\\users\\ahmed\\appdata\\local\\programs\\python\\python311\\lib\\site-packages (from transformers<5.0.0,>=4.41.0->sentence-transformers) (0.5.3)\n",
      "Requirement already satisfied: joblib>=1.2.0 in c:\\users\\ahmed\\appdata\\local\\programs\\python\\python311\\lib\\site-packages (from scikit-learn->sentence-transformers) (1.5.0)\n",
      "Requirement already satisfied: threadpoolctl>=3.1.0 in c:\\users\\ahmed\\appdata\\local\\programs\\python\\python311\\lib\\site-packages (from scikit-learn->sentence-transformers) (3.6.0)\n",
      "Requirement already satisfied: mpmath<1.4,>=1.1.0 in c:\\users\\ahmed\\appdata\\local\\programs\\python\\python311\\lib\\site-packages (from sympy>=1.13.3->torch>=1.11.0->sentence-transformers) (1.3.0)\n",
      "Requirement already satisfied: MarkupSafe>=2.0 in c:\\users\\ahmed\\appdata\\local\\programs\\python\\python311\\lib\\site-packages (from jinja2->torch>=1.11.0->sentence-transformers) (3.0.2)\n",
      "Requirement already satisfied: charset-normalizer<4,>=2 in c:\\users\\ahmed\\appdata\\local\\programs\\python\\python311\\lib\\site-packages (from requests->huggingface-hub>=0.20.0->sentence-transformers) (3.4.0)\n",
      "Requirement already satisfied: idna<4,>=2.5 in c:\\users\\ahmed\\appdata\\local\\programs\\python\\python311\\lib\\site-packages (from requests->huggingface-hub>=0.20.0->sentence-transformers) (3.10)\n",
      "Requirement already satisfied: urllib3<3,>=1.21.1 in c:\\users\\ahmed\\appdata\\local\\programs\\python\\python311\\lib\\site-packages (from requests->huggingface-hub>=0.20.0->sentence-transformers) (2.2.3)\n",
      "Requirement already satisfied: certifi>=2017.4.17 in c:\\users\\ahmed\\appdata\\local\\programs\\python\\python311\\lib\\site-packages (from requests->huggingface-hub>=0.20.0->sentence-transformers) (2024.8.30)\n"
     ]
    },
    {
     "name": "stderr",
     "output_type": "stream",
     "text": [
      "\n",
      "[notice] A new release of pip is available: 25.0.1 -> 25.1.1\n",
      "[notice] To update, run: python.exe -m pip install --upgrade pip\n"
     ]
    }
   ],
   "source": [
    "import sys\n",
    "!{sys.executable} -m pip install sentence-transformers\n"
   ]
  },
  {
   "cell_type": "code",
   "execution_count": 8,
   "id": "2bd0f8a5",
   "metadata": {},
   "outputs": [],
   "source": [
    "import pandas as pd\n",
    "from sentence_transformers import SentenceTransformer\n",
    "from sklearn.metrics.pairwise import cosine_similarity\n",
    "import numpy as np"
   ]
  },
  {
   "cell_type": "markdown",
   "id": "cf0e8457",
   "metadata": {},
   "source": [
    "Chargement des données"
   ]
  },
  {
   "cell_type": "code",
   "execution_count": 10,
   "id": "034e67ba",
   "metadata": {},
   "outputs": [],
   "source": [
    "profiles_df = pd.read_csv(\"Data/profile_sans_doublons_2.csv\").fillna(\"\")\n",
    "offers_df = pd.read_excel(\"Data/df_clean_offres.xlsx\").fillna(\"\")"
   ]
  },
  {
   "cell_type": "markdown",
   "id": "bc177487",
   "metadata": {},
   "source": [
    "Configuration des poids par champ : Pondération des champs (selon importance pour le matching)"
   ]
  },
  {
   "cell_type": "code",
   "execution_count": 11,
   "id": "76fa719c",
   "metadata": {},
   "outputs": [],
   "source": [
    "weights = {\n",
    "    \"Metier_regroupe\": 0.35,\n",
    "    \"Points_forts\": 0.25,\n",
    "    \"Compétence\": 0.25,\n",
    "    \"Contrat\": 0.05,\n",
    "    \"Expérience\": 0.10\n",
    "}"
   ]
  },
  {
   "cell_type": "markdown",
   "id": "41e60c7c",
   "metadata": {},
   "source": [
    "Correspondances entre colonnes des profils et des offres"
   ]
  },
  {
   "cell_type": "code",
   "execution_count": 12,
   "id": "e80c4fd8",
   "metadata": {},
   "outputs": [],
   "source": [
    "field_map = {\n",
    "    \"Metier_regroupe\": \"groupe_metier\",\n",
    "    \"Points_forts\": \"stack_technique\",\n",
    "    \"Compétence\": \"stack_technique\",\n",
    "    \"Contrat\": \"Contrat\",\n",
    "    \"Expérience\": \"Experience\"\n",
    "}"
   ]
  },
  {
   "cell_type": "markdown",
   "id": "16a831be",
   "metadata": {},
   "source": [
    "Chargement du modèle SBERT : adapté pour les textes en français"
   ]
  },
  {
   "cell_type": "code",
   "execution_count": 13,
   "id": "2736cf36",
   "metadata": {},
   "outputs": [
    {
     "name": "stderr",
     "output_type": "stream",
     "text": [
      "c:\\Users\\ahmed\\AppData\\Local\\Programs\\Python\\Python311\\Lib\\site-packages\\huggingface_hub\\file_download.py:143: UserWarning: `huggingface_hub` cache-system uses symlinks by default to efficiently store duplicated files but your machine does not support them in C:\\Users\\ahmed\\.cache\\huggingface\\hub\\models--sentence-transformers--paraphrase-multilingual-MiniLM-L12-v2. Caching files will still work but in a degraded version that might require more space on your disk. This warning can be disabled by setting the `HF_HUB_DISABLE_SYMLINKS_WARNING` environment variable. For more details, see https://huggingface.co/docs/huggingface_hub/how-to-cache#limitations.\n",
      "To support symlinks on Windows, you either need to activate Developer Mode or to run Python as an administrator. In order to activate developer mode, see this article: https://docs.microsoft.com/en-us/windows/apps/get-started/enable-your-device-for-development\n",
      "  warnings.warn(message)\n",
      "Xet Storage is enabled for this repo, but the 'hf_xet' package is not installed. Falling back to regular HTTP download. For better performance, install the package with: `pip install huggingface_hub[hf_xet]` or `pip install hf_xet`\n",
      "Xet Storage is enabled for this repo, but the 'hf_xet' package is not installed. Falling back to regular HTTP download. For better performance, install the package with: `pip install huggingface_hub[hf_xet]` or `pip install hf_xet`\n"
     ]
    }
   ],
   "source": [
    "model = SentenceTransformer(\"paraphrase-multilingual-MiniLM-L12-v2\")"
   ]
  },
  {
   "cell_type": "markdown",
   "id": "26413895",
   "metadata": {},
   "source": [
    "Calcul des embeddings + similarités pondérées"
   ]
  },
  {
   "cell_type": "code",
   "execution_count": 14,
   "id": "683470ed",
   "metadata": {},
   "outputs": [],
   "source": [
    "# Matrice finale de similarité\n",
    "similarity_total = np.zeros((len(profiles_df), len(offers_df)))"
   ]
  },
  {
   "cell_type": "code",
   "execution_count": null,
   "id": "00a6fb12",
   "metadata": {},
   "outputs": [
    {
     "name": "stderr",
     "output_type": "stream",
     "text": [
      "Batches: 100%|██████████| 22/22 [00:01<00:00, 12.15it/s]\n",
      "Batches: 100%|██████████| 70/70 [00:04<00:00, 17.27it/s]\n",
      "Batches: 100%|██████████| 22/22 [00:04<00:00,  5.46it/s]\n",
      "Batches: 100%|██████████| 70/70 [00:29<00:00,  2.34it/s]\n",
      "Batches: 100%|██████████| 22/22 [00:08<00:00,  2.53it/s]\n",
      "Batches: 100%|██████████| 70/70 [00:28<00:00,  2.48it/s]\n",
      "Batches: 100%|██████████| 22/22 [00:00<00:00, 24.01it/s]\n",
      "Batches: 100%|██████████| 70/70 [00:04<00:00, 14.27it/s]\n",
      "Batches: 100%|██████████| 22/22 [00:03<00:00,  5.64it/s]\n",
      "Batches: 100%|██████████| 70/70 [00:06<00:00, 11.58it/s]\n"
     ]
    }
   ],
   "source": [
    "# Pour chaque champ \n",
    "for profile_field, weight in weights.items():\n",
    "    \n",
    "    offer_field = field_map[profile_field]\n",
    "    profile_texts = profiles_df[profile_field].astype(str).tolist()\n",
    "    offer_texts = offers_df[offer_field].astype(str).tolist()\n",
    "\n",
    "    # Embeddings\n",
    "    profile_embeddings = model.encode(profile_texts, show_progress_bar=True)\n",
    "    offer_embeddings = model.encode(offer_texts, show_progress_bar=True)\n",
    "\n",
    "    # Similarité\n",
    "    sim_matrix = cosine_similarity(profile_embeddings, offer_embeddings)\n",
    "\n",
    "    # Pondération et ajout à la matrice finale\n",
    "    similarity_total += weight * sim_matrix\n"
   ]
  },
  {
   "cell_type": "markdown",
   "id": "d07ea28f",
   "metadata": {},
   "source": [
    "Extraction du Top 10 des paires les plus similaires"
   ]
  },
  {
   "cell_type": "markdown",
   "id": "06acc372",
   "metadata": {},
   "source": [
    " Pour chaque profil on va garder l'offre avec le meilleur score uniquement pour eviter la redondance"
   ]
  },
  {
   "cell_type": "code",
   "execution_count": 19,
   "id": "d958af9e",
   "metadata": {},
   "outputs": [],
   "source": [
    "best_matches = []\n",
    "for i in range(similarity_total.shape[0]):\n",
    "    best_offer_index = np.argmax(similarity_total[i])\n",
    "    best_score = similarity_total[i, best_offer_index]\n",
    "    best_matches.append((i, best_offer_index, best_score))\n",
    "\n",
    "# Trier par score décroissant et prendre les top 50\n",
    "top_50_unique = sorted(best_matches, key=lambda x: x[2], reverse=True)[:50]\n"
   ]
  },
  {
   "cell_type": "markdown",
   "id": "56b6ee76",
   "metadata": {},
   "source": [
    "Affichage des résultats"
   ]
  },
  {
   "cell_type": "code",
   "execution_count": 20,
   "id": "b1f3e28c",
   "metadata": {},
   "outputs": [
    {
     "name": "stdout",
     "output_type": "stream",
     "text": [
      "\n",
      "Top 10 Paires Offre/Profil (SBERT Pondéré, sans doublon profil) :\n",
      "\n",
      "Profil : DATA ANALYST...\n",
      "Offre  : Data analyst (H/F)\n",
      "Score pondéré SBERT : 0.93\n",
      "---\n",
      "Profil : chargé d'étude statistique/Data scientist...\n",
      "Offre  : Data Scientist H/F\n",
      "Score pondéré SBERT : 0.817\n",
      "---\n",
      "Profil : Data Analyst / Développeur BI...\n",
      "Offre  : Data analyste informatique (IT) / Freelance (H/F)\n",
      "Score pondéré SBERT : 0.8\n",
      "---\n",
      "Profil : Data Analyst...\n",
      "Offre  : Data Analyst F/H - Système, réseaux, données (H/F)\n",
      "Score pondéré SBERT : 0.787\n",
      "---\n",
      "Profil : A la recherche d'un emploi  CDI en Actuariat -Data Science...\n",
      "Offre  : INGENIEUR GENIE ELECTRIQUE CFA - ACTIVITE DATA CENTER (H/F)\n",
      "Score pondéré SBERT : 0.78\n",
      "---\n",
      "Profil : DATA SCIENTIST...\n",
      "Offre  : Data Scientist H/F\n",
      "Score pondéré SBERT : 0.777\n",
      "---\n",
      "Profil : Data analyst/ Data Engineer...\n",
      "Offre  : Data analyst (H/F)\n",
      "Score pondéré SBERT : 0.776\n",
      "---\n",
      "Profil : DATA SCIENTIST...\n",
      "Offre  : #SALONDEMANDELIEU2024 : Machine Learning Engineer  (H/F)\n",
      "Score pondéré SBERT : 0.775\n",
      "---\n",
      "Profil : Analyste Quantitatif Risque de Crédit...\n",
      "Offre  : chef projets data H/F - EC20698\n",
      "Score pondéré SBERT : 0.772\n",
      "---\n",
      "Profil : CDI/CDD – Data Scientiste/ Analyste...\n",
      "Offre  : Data scientist (H/F) SALON TAF Toulouse 2025\n",
      "Score pondéré SBERT : 0.772\n",
      "---\n"
     ]
    }
   ],
   "source": [
    "print(\"\\nTop 10 Paires Offre/Profil (SBERT Pondéré, sans doublon profil) :\\n\")\n",
    "for i, j, score in top_50_unique[:10]:\n",
    "    print(f\"Profil : {profiles_df.iloc[i]['Profil'][:60]}...\")\n",
    "    print(f\"Offre  : {offers_df.iloc[j]['Nom_poste']}\")\n",
    "    print(f\"Score pondéré SBERT : {round(score, 3)}\")\n",
    "    print(\"---\")"
   ]
  },
  {
   "cell_type": "markdown",
   "id": "46cdb647",
   "metadata": {},
   "source": [
    "Export des Top 50 correspondances complètes"
   ]
  },
  {
   "cell_type": "code",
   "execution_count": 21,
   "id": "1c2fc648",
   "metadata": {},
   "outputs": [],
   "source": [
    "export_rows = []\n",
    "for i, j, score in top_50_unique:\n",
    "    profile_data = profiles_df.loc[i, ['Profil', 'Metier_regroupe', 'Points_forts', 'Compétence', 'Contrat', 'Expérience']].to_dict()\n",
    "    offer_data = offers_df.loc[j, ['Nom_poste', 'groupe_metier', 'stack_technique', 'Contrat', 'Experience']].to_dict()\n",
    "    row = {**profile_data, **offer_data, \"Score_SBERT\": round(score, 3)}\n",
    "    export_rows.append(row)\n",
    "\n",
    "result_df = pd.DataFrame(export_rows)\n",
    "result_df.to_excel(\"Data/Top_50_Match_Profils_Offres_Uniques_SBERT.xlsx\", index=False)"
   ]
  }
 ],
 "metadata": {
  "kernelspec": {
   "display_name": "Python 3",
   "language": "python",
   "name": "python3"
  },
  "language_info": {
   "codemirror_mode": {
    "name": "ipython",
    "version": 3
   },
   "file_extension": ".py",
   "mimetype": "text/x-python",
   "name": "python",
   "nbconvert_exporter": "python",
   "pygments_lexer": "ipython3",
   "version": "3.11.0"
  }
 },
 "nbformat": 4,
 "nbformat_minor": 5
}
