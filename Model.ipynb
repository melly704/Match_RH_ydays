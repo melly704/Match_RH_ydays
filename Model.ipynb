{
 "cells": [
  {
   "cell_type": "code",
   "execution_count": 7,
   "id": "14e5da16",
   "metadata": {},
   "outputs": [
    {
     "name": "stdout",
     "output_type": "stream",
     "text": [
      "Requirement already satisfied: sentence-transformers in c:\\users\\ahmed\\appdata\\local\\programs\\python\\python311\\lib\\site-packages (4.1.0)\n",
      "Requirement already satisfied: transformers<5.0.0,>=4.41.0 in c:\\users\\ahmed\\appdata\\local\\programs\\python\\python311\\lib\\site-packages (from sentence-transformers) (4.51.3)\n",
      "Requirement already satisfied: tqdm in c:\\users\\ahmed\\appdata\\local\\programs\\python\\python311\\lib\\site-packages (from sentence-transformers) (4.67.1)\n",
      "Requirement already satisfied: torch>=1.11.0 in c:\\users\\ahmed\\appdata\\local\\programs\\python\\python311\\lib\\site-packages (from sentence-transformers) (2.7.0)\n",
      "Requirement already satisfied: scikit-learn in c:\\users\\ahmed\\appdata\\local\\programs\\python\\python311\\lib\\site-packages (from sentence-transformers) (1.6.1)\n",
      "Requirement already satisfied: scipy in c:\\users\\ahmed\\appdata\\local\\programs\\python\\python311\\lib\\site-packages (from sentence-transformers) (1.15.3)\n",
      "Requirement already satisfied: huggingface-hub>=0.20.0 in c:\\users\\ahmed\\appdata\\local\\programs\\python\\python311\\lib\\site-packages (from sentence-transformers) (0.31.2)\n",
      "Requirement already satisfied: Pillow in c:\\users\\ahmed\\appdata\\local\\programs\\python\\python311\\lib\\site-packages (from sentence-transformers) (11.2.1)\n",
      "Requirement already satisfied: typing_extensions>=4.5.0 in c:\\users\\ahmed\\appdata\\roaming\\python\\python311\\site-packages (from sentence-transformers) (4.12.2)\n",
      "Requirement already satisfied: filelock in c:\\users\\ahmed\\appdata\\local\\programs\\python\\python311\\lib\\site-packages (from huggingface-hub>=0.20.0->sentence-transformers) (3.18.0)\n",
      "Requirement already satisfied: fsspec>=2023.5.0 in c:\\users\\ahmed\\appdata\\local\\programs\\python\\python311\\lib\\site-packages (from huggingface-hub>=0.20.0->sentence-transformers) (2025.3.2)\n",
      "Requirement already satisfied: packaging>=20.9 in c:\\users\\ahmed\\appdata\\roaming\\python\\python311\\site-packages (from huggingface-hub>=0.20.0->sentence-transformers) (24.2)\n",
      "Requirement already satisfied: pyyaml>=5.1 in c:\\users\\ahmed\\appdata\\local\\programs\\python\\python311\\lib\\site-packages (from huggingface-hub>=0.20.0->sentence-transformers) (6.0.2)\n",
      "Requirement already satisfied: requests in c:\\users\\ahmed\\appdata\\local\\programs\\python\\python311\\lib\\site-packages (from huggingface-hub>=0.20.0->sentence-transformers) (2.32.3)\n",
      "Requirement already satisfied: sympy>=1.13.3 in c:\\users\\ahmed\\appdata\\local\\programs\\python\\python311\\lib\\site-packages (from torch>=1.11.0->sentence-transformers) (1.14.0)\n",
      "Requirement already satisfied: networkx in c:\\users\\ahmed\\appdata\\local\\programs\\python\\python311\\lib\\site-packages (from torch>=1.11.0->sentence-transformers) (3.4.2)\n",
      "Requirement already satisfied: jinja2 in c:\\users\\ahmed\\appdata\\local\\programs\\python\\python311\\lib\\site-packages (from torch>=1.11.0->sentence-transformers) (3.1.4)\n",
      "Requirement already satisfied: colorama in c:\\users\\ahmed\\appdata\\roaming\\python\\python311\\site-packages (from tqdm->sentence-transformers) (0.4.6)\n",
      "Requirement already satisfied: numpy>=1.17 in c:\\users\\ahmed\\appdata\\local\\programs\\python\\python311\\lib\\site-packages (from transformers<5.0.0,>=4.41.0->sentence-transformers) (2.0.2)\n",
      "Requirement already satisfied: regex!=2019.12.17 in c:\\users\\ahmed\\appdata\\local\\programs\\python\\python311\\lib\\site-packages (from transformers<5.0.0,>=4.41.0->sentence-transformers) (2024.11.6)\n",
      "Requirement already satisfied: tokenizers<0.22,>=0.21 in c:\\users\\ahmed\\appdata\\local\\programs\\python\\python311\\lib\\site-packages (from transformers<5.0.0,>=4.41.0->sentence-transformers) (0.21.1)\n",
      "Requirement already satisfied: safetensors>=0.4.3 in c:\\users\\ahmed\\appdata\\local\\programs\\python\\python311\\lib\\site-packages (from transformers<5.0.0,>=4.41.0->sentence-transformers) (0.5.3)\n",
      "Requirement already satisfied: joblib>=1.2.0 in c:\\users\\ahmed\\appdata\\local\\programs\\python\\python311\\lib\\site-packages (from scikit-learn->sentence-transformers) (1.5.0)\n",
      "Requirement already satisfied: threadpoolctl>=3.1.0 in c:\\users\\ahmed\\appdata\\local\\programs\\python\\python311\\lib\\site-packages (from scikit-learn->sentence-transformers) (3.6.0)\n",
      "Requirement already satisfied: mpmath<1.4,>=1.1.0 in c:\\users\\ahmed\\appdata\\local\\programs\\python\\python311\\lib\\site-packages (from sympy>=1.13.3->torch>=1.11.0->sentence-transformers) (1.3.0)\n",
      "Requirement already satisfied: MarkupSafe>=2.0 in c:\\users\\ahmed\\appdata\\local\\programs\\python\\python311\\lib\\site-packages (from jinja2->torch>=1.11.0->sentence-transformers) (3.0.2)\n",
      "Requirement already satisfied: charset-normalizer<4,>=2 in c:\\users\\ahmed\\appdata\\local\\programs\\python\\python311\\lib\\site-packages (from requests->huggingface-hub>=0.20.0->sentence-transformers) (3.4.0)\n",
      "Requirement already satisfied: idna<4,>=2.5 in c:\\users\\ahmed\\appdata\\local\\programs\\python\\python311\\lib\\site-packages (from requests->huggingface-hub>=0.20.0->sentence-transformers) (3.10)\n",
      "Requirement already satisfied: urllib3<3,>=1.21.1 in c:\\users\\ahmed\\appdata\\local\\programs\\python\\python311\\lib\\site-packages (from requests->huggingface-hub>=0.20.0->sentence-transformers) (2.2.3)\n",
      "Requirement already satisfied: certifi>=2017.4.17 in c:\\users\\ahmed\\appdata\\local\\programs\\python\\python311\\lib\\site-packages (from requests->huggingface-hub>=0.20.0->sentence-transformers) (2024.8.30)\n"
     ]
    },
    {
     "name": "stderr",
     "output_type": "stream",
     "text": [
      "\n",
      "[notice] A new release of pip is available: 25.0.1 -> 25.1.1\n",
      "[notice] To update, run: python.exe -m pip install --upgrade pip\n"
     ]
    }
   ],
   "source": [
    "import sys\n",
    "!{sys.executable} -m pip install sentence-transformers\n"
   ]
  },
  {
   "cell_type": "code",
   "execution_count": 1,
   "id": "2bd0f8a5",
   "metadata": {},
   "outputs": [
    {
     "name": "stderr",
     "output_type": "stream",
     "text": [
      "c:\\Users\\ahmed\\AppData\\Local\\Programs\\Python\\Python311\\Lib\\site-packages\\tqdm\\auto.py:21: TqdmWarning: IProgress not found. Please update jupyter and ipywidgets. See https://ipywidgets.readthedocs.io/en/stable/user_install.html\n",
      "  from .autonotebook import tqdm as notebook_tqdm\n"
     ]
    }
   ],
   "source": [
    "import pandas as pd\n",
    "from sentence_transformers import SentenceTransformer\n",
    "from sklearn.metrics.pairwise import cosine_similarity\n",
    "import numpy as np"
   ]
  },
  {
   "cell_type": "markdown",
   "id": "cf0e8457",
   "metadata": {},
   "source": [
    "Chargement des données"
   ]
  },
  {
   "cell_type": "code",
   "execution_count": 3,
   "id": "034e67ba",
   "metadata": {},
   "outputs": [],
   "source": [
    "profiles_df = pd.read_csv(\"Data/profile_model.csv\").fillna(\"\")\n",
    "offers_df = pd.read_csv(\"Data/offres_model.csv\").fillna(\"\")"
   ]
  },
  {
   "cell_type": "markdown",
   "id": "bc177487",
   "metadata": {},
   "source": [
    "Configuration des poids par champ : Pondération des champs (selon importance pour le matching)"
   ]
  },
  {
   "cell_type": "code",
   "execution_count": 6,
   "id": "76fa719c",
   "metadata": {},
   "outputs": [],
   "source": [
    "weights = {\n",
    "    \"Metier_regroupe\": 0.20,\n",
    "    \"Points_forts\": 0.15,\n",
    "    \"Compétence\": 0.15,\n",
    "    \"Contrat\": 0.15,\n",
    "    \"Experience_mois\": 0.20,\n",
    "    \"Departement\": 0.15\n",
    "}"
   ]
  },
  {
   "cell_type": "markdown",
   "id": "41e60c7c",
   "metadata": {},
   "source": [
    "Correspondances entre colonnes des profils et des offres"
   ]
  },
  {
   "cell_type": "code",
   "execution_count": 7,
   "id": "e80c4fd8",
   "metadata": {},
   "outputs": [],
   "source": [
    "field_map = {\n",
    "    \"Metier_regroupe\": \"groupe_metier\",\n",
    "    \"Points_forts\": \"stack_technique\",\n",
    "    \"Compétence\": \"stack_technique\",\n",
    "    \"Contrat\": \"Contrat\",\n",
    "    \"Experience_mois\": \"experience_mois\",\n",
    "    \"Departement\": \"Departement\",\n",
    "}\n"
   ]
  },
  {
   "cell_type": "markdown",
   "id": "16a831be",
   "metadata": {},
   "source": [
    "Chargement du modèle SBERT : adapté pour les textes en français"
   ]
  },
  {
   "cell_type": "code",
   "execution_count": 8,
   "id": "2736cf36",
   "metadata": {},
   "outputs": [],
   "source": [
    "model = SentenceTransformer(\"paraphrase-multilingual-MiniLM-L12-v2\")"
   ]
  },
  {
   "cell_type": "markdown",
   "id": "26413895",
   "metadata": {},
   "source": [
    "Calcul des embeddings + similarités pondérées"
   ]
  },
  {
   "cell_type": "code",
   "execution_count": 9,
   "id": "683470ed",
   "metadata": {},
   "outputs": [],
   "source": [
    "# Matrice finale de similarité\n",
    "similarity_total = np.zeros((len(profiles_df), len(offers_df)))"
   ]
  },
  {
   "cell_type": "code",
   "execution_count": 10,
   "id": "00a6fb12",
   "metadata": {},
   "outputs": [
    {
     "name": "stderr",
     "output_type": "stream",
     "text": [
      "Batches:   0%|          | 0/22 [00:00<?, ?it/s]"
     ]
    },
    {
     "name": "stderr",
     "output_type": "stream",
     "text": [
      "Batches: 100%|██████████| 22/22 [00:01<00:00, 14.22it/s]\n",
      "Batches: 100%|██████████| 70/70 [00:03<00:00, 18.68it/s]\n",
      "Batches: 100%|██████████| 22/22 [00:03<00:00,  7.11it/s]\n",
      "Batches: 100%|██████████| 70/70 [00:23<00:00,  3.04it/s]\n",
      "Batches: 100%|██████████| 22/22 [00:06<00:00,  3.23it/s]\n",
      "Batches: 100%|██████████| 70/70 [00:23<00:00,  3.04it/s]\n",
      "Batches: 100%|██████████| 22/22 [00:01<00:00, 21.03it/s]\n",
      "Batches: 100%|██████████| 70/70 [00:03<00:00, 18.80it/s]\n",
      "Batches: 100%|██████████| 22/22 [00:01<00:00, 19.70it/s]\n",
      "Batches: 100%|██████████| 70/70 [00:03<00:00, 22.23it/s]\n",
      "Batches: 100%|██████████| 22/22 [00:00<00:00, 24.22it/s]\n",
      "Batches: 100%|██████████| 70/70 [00:03<00:00, 22.97it/s]\n"
     ]
    }
   ],
   "source": [
    "# Pour chaque champ \n",
    "for profile_field, weight in weights.items():\n",
    "    \n",
    "    offer_field = field_map[profile_field]\n",
    "    profile_texts = profiles_df[profile_field].astype(str).tolist()\n",
    "    offer_texts = offers_df[offer_field].astype(str).tolist()\n",
    "\n",
    "    # Embeddings\n",
    "    profile_embeddings = model.encode(profile_texts, show_progress_bar=True)\n",
    "    offer_embeddings = model.encode(offer_texts, show_progress_bar=True)\n",
    "\n",
    "    # Similarité\n",
    "    sim_matrix = cosine_similarity(profile_embeddings, offer_embeddings)\n",
    "\n",
    "    # Pondération et ajout à la matrice finale\n",
    "    similarity_total += weight * sim_matrix\n"
   ]
  },
  {
   "cell_type": "markdown",
   "id": "d07ea28f",
   "metadata": {},
   "source": [
    "Extraction du Top 10 des paires les plus similaires"
   ]
  },
  {
   "cell_type": "markdown",
   "id": "06acc372",
   "metadata": {},
   "source": [
    " Pour chaque profil on va garder l'offre avec le meilleur score uniquement pour eviter la redondance"
   ]
  },
  {
   "cell_type": "code",
   "execution_count": 11,
   "id": "d958af9e",
   "metadata": {},
   "outputs": [],
   "source": [
    "best_matches = []\n",
    "for i in range(similarity_total.shape[0]):\n",
    "    best_offer_index = np.argmax(similarity_total[i])\n",
    "    best_score = similarity_total[i, best_offer_index]\n",
    "    best_matches.append((i, best_offer_index, best_score))\n",
    "\n",
    "# Trier par score décroissant et prendre les top 50\n",
    "top_50_unique = sorted(best_matches, key=lambda x: x[2], reverse=True)[:50]\n"
   ]
  },
  {
   "cell_type": "markdown",
   "id": "56b6ee76",
   "metadata": {},
   "source": [
    "Affichage des résultats"
   ]
  },
  {
   "cell_type": "code",
   "execution_count": 12,
   "id": "b1f3e28c",
   "metadata": {},
   "outputs": [
    {
     "name": "stdout",
     "output_type": "stream",
     "text": [
      "\n",
      "Top 10 Paires Offre/Profil (SBERT Pondéré, sans doublon profil) :\n",
      "\n",
      "Profil : Data Scientist...\n",
      "Offre  : Data Scientist F/H - Système, réseaux, données (H/F)\n",
      "Score pondéré SBERT : 0.888\n",
      "---\n",
      "Profil : Directeur  Systèmes d'Information...\n",
      "Offre  : Ingénieur(e) Data Senior (H/F)\n",
      "Score pondéré SBERT : 0.887\n",
      "---\n",
      "Profil : Journaliste sportif...\n",
      "Offre  : Expert Data Center CFO CFA (H/F)\n",
      "Score pondéré SBERT : 0.88\n",
      "---\n",
      "Profil : Directeur des Systèmes d'information (DSI)...\n",
      "Offre  : Ingénieur Méthodes & Data Management F/H (H/F)\n",
      "Score pondéré SBERT : 0.878\n",
      "---\n",
      "Profil : Data Analyst...\n",
      "Offre  : Data Analyst - F/H - Système, réseaux, données (H/F)\n",
      "Score pondéré SBERT : 0.874\n",
      "---\n",
      "Profil : DATA SCIENTIST...\n",
      "Offre  : #SALONDEMANDELIEU2024 : Machine Learning Engineer  (H/F)\n",
      "Score pondéré SBERT : 0.873\n",
      "---\n",
      "Profil : Préparateur physique, analyste de performance, formateur, sp...\n",
      "Offre  : Data Owner F/H - Direction recherche et développement (H/F)\n",
      "Score pondéré SBERT : 0.871\n",
      "---\n",
      "Profil : Motivé par l’opportunité d’acquérir une expertise approfondi...\n",
      "Offre  : Chargé(e) de data marketing F/H (H/F)\n",
      "Score pondéré SBERT : 0.87\n",
      "---\n",
      "Profil : ingenieur senior developpement 3D...\n",
      "Offre  : GESTIONNAIRE REFERENTIEL ARTICLES H/F\n",
      "Score pondéré SBERT : 0.869\n",
      "---\n",
      "Profil : Jeune diplômé, Recherche CDI dans le domaine de la data...\n",
      "Offre  : Expert MongoDB (H/F)\n",
      "Score pondéré SBERT : 0.869\n",
      "---\n"
     ]
    }
   ],
   "source": [
    "print(\"\\nTop 10 Paires Offre/Profil (SBERT Pondéré, sans doublon profil) :\\n\")\n",
    "for i, j, score in top_50_unique[:10]:\n",
    "    print(f\"Profil : {profiles_df.iloc[i]['Profil'][:60]}...\")\n",
    "    print(f\"Offre  : {offers_df.iloc[j]['Nom_poste']}\")\n",
    "    print(f\"Score pondéré SBERT : {round(score, 3)}\")\n",
    "    print(\"---\")"
   ]
  },
  {
   "cell_type": "markdown",
   "id": "46cdb647",
   "metadata": {},
   "source": [
    "Export des Top 50 correspondances complètes"
   ]
  },
  {
   "cell_type": "code",
   "execution_count": null,
   "id": "1c2fc648",
   "metadata": {},
   "outputs": [
    {
     "ename": "",
     "evalue": "",
     "output_type": "error",
     "traceback": [
      "\u001b[1;31mThe Kernel crashed while executing code in the current cell or a previous cell. \n",
      "\u001b[1;31mPlease review the code in the cell(s) to identify a possible cause of the failure. \n",
      "\u001b[1;31mClick <a href='https://aka.ms/vscodeJupyterKernelCrash'>here</a> for more info. \n",
      "\u001b[1;31mView Jupyter <a href='command:jupyter.viewOutput'>log</a> for further details."
     ]
    }
   ],
   "source": [
    "export_rows = []\n",
    "for i, j, score in top_50_unique:\n",
    "    profile_data = profiles_df.loc[i, ['Profil', 'Metier_regroupe', 'Points_forts', 'Compétence', 'Contrat', 'Experience_mois','Departement']].to_dict()\n",
    "    offer_data = offers_df.loc[j, ['Nom_poste', 'groupe_metier', 'stack_technique', 'Contrat', 'experience_mois','Departement']].to_dict()\n",
    "    row = {**profile_data, **offer_data, \"Score_SBERT\": round(score, 3)}\n",
    "    export_rows.append(row)\n",
    "\n",
    "result_df = pd.DataFrame(export_rows)\n",
    "result_df.to_excel(\"Data/Top_50_Match.xlsx\", index=False)"
   ]
  }
 ],
 "metadata": {
  "kernelspec": {
   "display_name": "Python 3",
   "language": "python",
   "name": "python3"
  },
  "language_info": {
   "codemirror_mode": {
    "name": "ipython",
    "version": 3
   },
   "file_extension": ".py",
   "mimetype": "text/x-python",
   "name": "python",
   "nbconvert_exporter": "python",
   "pygments_lexer": "ipython3",
   "version": "3.11.0"
  }
 },
 "nbformat": 4,
 "nbformat_minor": 5
}
