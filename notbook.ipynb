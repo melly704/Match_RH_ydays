{
 "cells": [
  {
   "cell_type": "code",
   "execution_count": 2,
   "metadata": {},
   "outputs": [],
   "source": [
    "import pandas as pd\n",
    "import re\n",
    "from pymongo import MongoClient\n",
    "\n",
    "\n",
    "uri = \"mongodb://localhost:27017\"  # ou URI MongoDB Atlas\n",
    "client = MongoClient(uri)\n",
    "\n",
    "\n",
    "db = client[\"matchrh\"]\n",
    "collection = db[\"offres\"]\n",
    "dernier_doc = collection.find_one(sort=[(\"_id\", -1)])"
   ]
  }
 ],
 "metadata": {
  "kernelspec": {
   "display_name": "Python 3",
   "language": "python",
   "name": "python3"
  },
  "language_info": {
   "codemirror_mode": {
    "name": "ipython",
    "version": 3
   },
   "file_extension": ".py",
   "mimetype": "text/x-python",
   "name": "python",
   "nbconvert_exporter": "python",
   "pygments_lexer": "ipython3",
   "version": "3.11.0"
  }
 },
 "nbformat": 4,
 "nbformat_minor": 2
}
